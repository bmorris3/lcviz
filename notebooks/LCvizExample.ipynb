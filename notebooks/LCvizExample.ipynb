{
 "cells": [
  {
   "cell_type": "markdown",
   "id": "45e4a15d-684d-47bc-b1f0-ac17e85afd31",
   "metadata": {},
   "source": [
    "# LCviz\n",
    "\n",
    "Load the Kepler 30 minute (\"long\") cadence light curveof HAT-P-11 from Kepler Quarter 9 (in 2011). HAT-P-11 is a K4V host to a transiting hot Neptune with a 4.8 day period, and a stellar rotation period of 29 days."
   ]
  },
  {
   "cell_type": "code",
   "execution_count": null,
   "id": "a21f400f",
   "metadata": {
    "tags": []
   },
   "outputs": [],
   "source": [
    "from lightkurve import search_lightcurve\n",
    "from lcviz import LCviz\n",
    "\n",
    "lc_q9 = search_lightcurve(\"HAT-P-11\", mission=\"Kepler\", cadence=\"long\", quarter=9).download()\n",
    "\n",
    "lcviz = LCviz()\n",
    "lcviz.load_data(lc_q9)\n",
    "lcviz.show()"
   ]
  },
  {
   "cell_type": "markdown",
   "id": "d007fb51-89db-4eaa-86a7-ee832e450ede",
   "metadata": {},
   "source": [
    "Load and display a second Kepler quarter in the same viewer. We'll pre-process the light curves by flattening them to remove out-of-transit variability due to stellar rotation:"
   ]
  },
  {
   "cell_type": "code",
   "execution_count": null,
   "id": "8dde219d-c9f1-4967-9437-e0abdcbd32b5",
   "metadata": {
    "tags": []
   },
   "outputs": [],
   "source": [
    "lc_q10 = search_lightcurve(\"HAT-P-11\", mission=\"Kepler\", cadence=\"long\", quarter=10).download()\n",
    "\n",
    "def preprocess_lc(lc, window_length=50):\n",
    "    \"\"\"\n",
    "    Here we use the lightkurve `flatten` method for roughly detrending\n",
    "    the light curve. There will be workflows for doing this operation\n",
    "    through the UI soon.\n",
    "    \"\"\"\n",
    "    return lc.flatten(\n",
    "        window_length=window_length, polyorder=3\n",
    "    ).remove_nans()\n",
    "\n",
    "lcviz = LCviz()\n",
    "lcviz.load_data(preprocess_lc(lc_q9), data_label='Q9')\n",
    "lcviz.load_data(preprocess_lc(lc_q10), data_label='Q10')\n",
    "lcviz.show()"
   ]
  },
  {
   "cell_type": "markdown",
   "id": "bd7f8673-bce1-4712-b768-c4b0b41d798a",
   "metadata": {},
   "source": [
    "Show a phase folded light curve, given the ephemeris for the transiting exoplanet HAT-P-11 b:"
   ]
  },
  {
   "cell_type": "code",
   "execution_count": null,
   "id": "6485f1ba-27c2-4021-b818-fa39851a5e78",
   "metadata": {
    "tags": []
   },
   "outputs": [],
   "source": [
    "import astropy.units as u\n",
    "from astropy.time import Time\n",
    "\n",
    "# origin on the time axis\n",
    "time_coord = lcviz.app.data_collection[0].coords\n",
    "reference_time = time_coord.reference_time\n",
    "\n",
    "# literature ephemeris for hot Neptune planet HAT-P-11 b\n",
    "morris2017_epoch = Time(2454605.89146, format='jd')\n",
    "morris2017_period = 4.88780258  # days\n",
    "\n",
    "# phase the transit light curve\n",
    "eph = lcviz.plugins['Ephemeris']\n",
    "eph.period = morris2017_period\n",
    "eph.t0 = (\n",
    "    (morris2017_epoch - reference_time).to_value(time_coord.unit) % eph.period\n",
    ")\n",
    "# recenter the phase axis with transit at phase=0.5\n",
    "eph.t0 += 0.5 * eph.period"
   ]
  },
  {
   "cell_type": "code",
   "execution_count": null,
   "id": "a6cae4e2-58b5-4f95-a8bf-75f9c2ef8c01",
   "metadata": {},
   "outputs": [],
   "source": []
  }
 ],
 "metadata": {
  "kernelspec": {
   "display_name": "Python 3 (ipykernel)",
   "language": "python",
   "name": "python3"
  },
  "language_info": {
   "codemirror_mode": {
    "name": "ipython",
    "version": 3
   },
   "file_extension": ".py",
   "mimetype": "text/x-python",
   "name": "python",
   "nbconvert_exporter": "python",
   "pygments_lexer": "ipython3",
   "version": "3.11.4"
  },
  "vscode": {
   "interpreter": {
    "hash": "e0d7698a6bffdd12823f3adae50ca3e0cdb25fd6a46309d7ef31b30c90f2e841"
   }
  }
 },
 "nbformat": 4,
 "nbformat_minor": 5
}
